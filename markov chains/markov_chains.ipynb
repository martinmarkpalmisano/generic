{
 "cells": [
  {
   "cell_type": "markdown",
   "id": "09b3f962",
   "metadata": {},
   "source": [
    "1. Basic Idea\n",
    "\n",
    "A Markov chain is a stochastic process where the probability of moving to the next state depends only on the current state.\n",
    "\n",
    "We represent it using:\n",
    "\n",
    "- States (e.g., Sunny, Rainy, Cloudy)\n",
    "\n",
    "- Transition Matrix (probabilities of moving from one state to another)"
   ]
  },
  {
   "cell_type": "code",
   "execution_count": 1,
   "id": "51b9d837",
   "metadata": {},
   "outputs": [
    {
     "name": "stdout",
     "output_type": "stream",
     "text": [
      "Starting state: Cloudy\n",
      "Step 1: Cloudy → Cloudy\n",
      "Step 2: Cloudy → Cloudy\n",
      "Step 3: Cloudy → Sunny\n",
      "Step 4: Sunny → Sunny\n",
      "Step 5: Sunny → Cloudy\n",
      "Step 6: Cloudy → Rainy\n",
      "Step 7: Rainy → Sunny\n",
      "Step 8: Sunny → Sunny\n",
      "Step 9: Sunny → Cloudy\n",
      "Step 10: Cloudy → Sunny\n"
     ]
    }
   ],
   "source": [
    "import numpy as np\n",
    "import random\n",
    "\n",
    "# States\n",
    "states = [\"Sunny\", \"Rainy\", \"Cloudy\"]\n",
    "\n",
    "# Transition matrix (rows = current state, columns = next state)\n",
    "# e.g., P(Sunny->Sunny) = 0.6, P(Sunny->Rainy) = 0.2, etc.\n",
    "transition_matrix = [\n",
    "    [0.6, 0.2, 0.2],  # Sunny\n",
    "    [0.3, 0.5, 0.2],  # Rainy\n",
    "    [0.2, 0.3, 0.5]   # Cloudy\n",
    "]\n",
    "\n",
    "# Choose initial state\n",
    "current_state = random.choice(states)\n",
    "print(\"Starting state:\", current_state)\n",
    "\n",
    "# Simulate chain\n",
    "n_steps = 10\n",
    "for i in range(n_steps):\n",
    "    current_index = states.index(current_state)\n",
    "    next_state = random.choices(states, transition_matrix[current_index])[0]\n",
    "    print(f\"Step {i+1}: {current_state} → {next_state}\")\n",
    "    current_state = next_state"
   ]
  },
  {
   "cell_type": "markdown",
   "id": "2d861b30",
   "metadata": {},
   "source": [
    "Let’s compute the steady state distribution of a Markov chain in Python.\n",
    "\n",
    "The steady state is a probability distribution π such that:\n",
    "\n",
    "πP=π and ∑iπi=1\n",
    "\n",
    "where P is the transition matrix."
   ]
  },
  {
   "cell_type": "code",
   "execution_count": 2,
   "id": "94cfb03c",
   "metadata": {},
   "outputs": [
    {
     "name": "stdout",
     "output_type": "stream",
     "text": [
      "Steady state distribution:\n",
      "[0.3877551  0.32653061 0.28571429]\n"
     ]
    }
   ],
   "source": [
    "P = np.array([\n",
    "    [0.6, 0.2, 0.2],  # Sunny\n",
    "    [0.3, 0.5, 0.2],  # Rainy\n",
    "    [0.2, 0.3, 0.5]   # Cloudy\n",
    "])\n",
    "\n",
    "# Eigen decomposition\n",
    "eigvals, eigvecs = np.linalg.eig(P.T)\n",
    "\n",
    "# Find eigenvector corresponding to eigenvalue 1\n",
    "steady_state = eigvecs[:, np.isclose(eigvals, 1)]\n",
    "\n",
    "# Normalize so it sums to 1\n",
    "steady_state = steady_state[:,0]\n",
    "steady_state = steady_state / steady_state.sum()\n",
    "\n",
    "print(\"Steady state distribution:\")\n",
    "print(steady_state.real)"
   ]
  }
 ],
 "metadata": {
  "kernelspec": {
   "display_name": ".venv",
   "language": "python",
   "name": "python3"
  },
  "language_info": {
   "codemirror_mode": {
    "name": "ipython",
    "version": 3
   },
   "file_extension": ".py",
   "mimetype": "text/x-python",
   "name": "python",
   "nbconvert_exporter": "python",
   "pygments_lexer": "ipython3",
   "version": "3.10.11"
  }
 },
 "nbformat": 4,
 "nbformat_minor": 5
}
